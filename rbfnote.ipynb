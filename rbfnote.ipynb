{
 "cells": [
  {
   "cell_type": "code",
   "execution_count": 1,
   "metadata": {
    "collapsed": true,
    "pycharm": {
     "is_executing": false
    }
   },
   "outputs": [],
   "source": [
    "import dataGenerator\n",
    "import matplotlib.pyplot as plt\n",
    "import matplotlib\n",
    "import NeuralNets\n",
    "import numpy as np\n",
    "matplotlib.use('TkAgg')"
   ]
  },
  {
   "cell_type": "code",
   "execution_count": 2,
   "outputs": [
    {
     "data": {
      "text/plain": "<Figure size 432x288 with 1 Axes>",
      "image/png": "[encoded data removed]"
     },
     "metadata": {
      "needs_background": "light"
     },
     "output_type": "display_data"
    }
   ],
   "source": [
    "dg = dataGenerator.FuncDataGenerator()\n",
    "df = dg.generate_data()\n",
    "Xs = df['attribute1']\n",
    "ys = df['desired1']\n",
    "\n",
    "plt.scatter(Xs,ys)\n",
    "\n",
    "plt.show()"
   ],
   "metadata": {
    "collapsed": false,
    "pycharm": {
     "name": "#%%\n",
     "is_executing": false
    }
   }
  },
  {
   "cell_type": "code",
   "execution_count": 3,
   "outputs": [
    {
     "data": {
      "text/plain": "<Figure size 432x288 with 1 Axes>",
      "image/png": "[encoded data removed]"
     },
     "metadata": {
      "needs_background": "light"
     },
     "output_type": "display_data"
    }
   ],
   "source": [
    "df1 = dg.generate_data(random_method_noise=None)\n",
    "xs1 = df1['attribute1']\n",
    "ys1 = df1['desired1']\n",
    "\n",
    "plt.scatter(xs1,ys1)\n",
    "plt.show()"
   ],
   "metadata": {
    "collapsed": false,
    "pycharm": {
     "name": "#%%\n",
     "is_executing": false
    }
   }
  },
  {
   "cell_type": "code",
   "execution_count": 4,
   "outputs": [
    {
     "name": "stdout",
     "text": [
      "(100, 1)\n"
     ],
     "output_type": "stream"
    }
   ],
   "source": [
    "temp = Xs.values.reshape([-1,1])\n",
    "print(temp.shape)"
   ],
   "metadata": {
    "collapsed": false,
    "pycharm": {
     "name": "#%%\n",
     "is_executing": false
    }
   }
  },
  {
   "cell_type": "code",
   "execution_count": 5,
   "outputs": [],
   "source": [
    "kmeans_clusters = NeuralNets.KmeansClustering(k_centers=4)\n",
    "clusters = kmeans_clusters.fit(Xs.values.reshape([-1,1]))"
   ],
   "metadata": {
    "collapsed": false,
    "pycharm": {
     "name": "#%%\n",
     "is_executing": false
    }
   }
  },
  {
   "cell_type": "code",
   "execution_count": 6,
   "outputs": [],
   "source": [
    "# for i in clusters:\n",
    "#    \n",
    "#     xs = []\n",
    "#     ys = []\n",
    "#     for ii in i[0]:\n",
    "#         xs.append(ii[0])\n",
    "#         ys.append(0)\n",
    "#     plt.scatter(xs,ys,c=np.random.rand(3,))\n",
    "# plt.show()"
   ],
   "metadata": {
    "collapsed": false,
    "pycharm": {
     "name": "#%%\n",
     "is_executing": false
    }
   }
  },
  {
   "cell_type": "code",
   "execution_count": 7,
   "outputs": [
    {
     "data": {
      "text/plain": "<matplotlib.collections.PathCollection at 0x1c9c33b7988>"
     },
     "metadata": {},
     "output_type": "execute_result",
     "execution_count": 7
    },
    {
     "data": {
      "text/plain": "<Figure size 432x288 with 1 Axes>",
      "image/png": "[encoded data removed]"
     },
     "metadata": {
      "needs_background": "light"
     },
     "output_type": "display_data"
    }
   ],
   "source": [
    "plt.scatter([1],[1],c='r')\n",
    "plt.scatter([2],[1],c='b')"
   ],
   "metadata": {
    "collapsed": false,
    "pycharm": {
     "name": "#%%\n",
     "is_executing": false
    }
   }
  },
  {
   "cell_type": "code",
   "execution_count": null,
   "outputs": [
    {
     "name": "stdout",
     "text": [
      "0th iteration\n=============================================================\n--------------------------------\nLayer type: Input\ndim: 1\n--------------------------------\nLayer type: Dense\nn_neurons: 1\n[-0.17023463  0.20170015  0.18399136 -0.20369178 -0.14759701 -0.06433021\n  0.30486829]\n--------------------------------\n[0.1195156]\n",
      "100th iteration\n=============================================================\n--------------------------------\nLayer type: Input\ndim: 1\n--------------------------------\nLayer type: Dense\nn_neurons: 1\n[-0.15402069  0.21792378  0.20020834 -0.18746452 -0.1313605  -0.04810616\n  0.32109222]\n--------------------------------\n[0.09131576]\n",
      "200th iteration\n=============================================================\n--------------------------------\nLayer type: Input\ndim: 1\n--------------------------------\nLayer type: Dense\nn_neurons: 1\n[-0.1540305   0.21792365  0.20020156 -0.18746103 -0.13134773 -0.04810589\n  0.32109239]\n--------------------------------\n[0.09131576]\n",
      "300th iteration\n=============================================================\n--------------------------------\nLayer type: Input\ndim: 1\n--------------------------------\nLayer type: Dense\nn_neurons: 1\n[-0.15404031  0.21792353  0.20019479 -0.18745753 -0.13133496 -0.04810561\n  0.32109256]\n--------------------------------\n[0.09131576]\n",
      "400th iteration\n=============================================================\n--------------------------------\nLayer type: Input\ndim: 1\n--------------------------------\nLayer type: Dense\nn_neurons: 1\n[-0.15405012  0.2179234   0.20018802 -0.18745404 -0.13132219 -0.04810533\n  0.32109272]\n--------------------------------\n[0.09131576]\n",
      "500th iteration\n=============================================================\n--------------------------------\nLayer type: Input\ndim: 1\n--------------------------------\nLayer type: Dense\nn_neurons: 1\n[-0.15405994  0.21792327  0.20018125 -0.18745054 -0.13130942 -0.04810505\n  0.32109289]\n--------------------------------\n[0.09131576]\n",
      "600th iteration\n=============================================================\n--------------------------------\nLayer type: Input\ndim: 1\n--------------------------------\nLayer type: Dense\nn_neurons: 1\n[-0.15406975  0.21792315  0.20017447 -0.18744705 -0.13129665 -0.04810477\n  0.32109306]\n--------------------------------\n[0.09131576]\n",
      "700th iteration\n=============================================================\n--------------------------------\nLayer type: Input\ndim: 1\n--------------------------------\nLayer type: Dense\nn_neurons: 1\n[-0.15407956  0.21792302  0.2001677  -0.18744356 -0.13128388 -0.0481045\n  0.32109323]\n--------------------------------\n[0.09131576]\n",
      "800th iteration\n=============================================================\n--------------------------------\nLayer type: Input\ndim: 1\n--------------------------------\nLayer type: Dense\nn_neurons: 1\n[-0.15408937  0.21792289  0.20016093 -0.18744006 -0.13127111 -0.04810422\n  0.32109339]\n--------------------------------\n[0.09131576]\n",
      "900th iteration\n=============================================================\n--------------------------------\nLayer type: Input\ndim: 1\n--------------------------------\nLayer type: Dense\nn_neurons: 1\n[-0.15409918  0.21792277  0.20015416 -0.18743657 -0.13125834 -0.04810394\n  0.32109356]\n--------------------------------\n[0.09131576]\n",
      "1000th iteration\n=============================================================\n--------------------------------\nLayer type: Input\ndim: 1\n--------------------------------\nLayer type: Dense\nn_neurons: 1\n[-0.15410899  0.21792264  0.20014738 -0.18743307 -0.13124557 -0.04810366\n  0.32109373]\n--------------------------------\n[0.09131576]\n",
      "1100th iteration\n=============================================================\n--------------------------------\nLayer type: Input\ndim: 1\n--------------------------------\nLayer type: Dense\nn_neurons: 1\n[-0.1541188   0.21792251  0.20014061 -0.18742958 -0.13123281 -0.04810338\n  0.3210939 ]\n--------------------------------\n[0.09131576]\n",
      "1200th iteration\n=============================================================\n--------------------------------\nLayer type: Input\ndim: 1\n--------------------------------\nLayer type: Dense\nn_neurons: 1\n[-0.15412861  0.21792239  0.20013384 -0.18742608 -0.13122004 -0.04810311\n  0.32109406]\n--------------------------------\n[0.09131576]\n",
      "1300th iteration\n=============================================================\n--------------------------------\nLayer type: Input\ndim: 1\n--------------------------------\nLayer type: Dense\nn_neurons: 1\n[-0.15413842  0.21792226  0.20012707 -0.18742259 -0.13120727 -0.04810283\n  0.32109423]\n--------------------------------\n[0.09131576]\n",
      "1400th iteration\n=============================================================\n--------------------------------\nLayer type: Input\ndim: 1\n--------------------------------\nLayer type: Dense\nn_neurons: 1\n[-0.15414823  0.21792213  0.2001203  -0.18741909 -0.1311945  -0.04810255\n  0.3210944 ]\n--------------------------------\n[0.09131576]\n",
      "1500th iteration\n=============================================================\n--------------------------------\nLayer type: Input\ndim: 1\n--------------------------------\nLayer type: Dense\nn_neurons: 1\n[-0.15415804  0.21792201  0.20011352 -0.1874156  -0.13118173 -0.04810227\n  0.32109456]\n--------------------------------\n[0.09131576]\n",
      "1600th iteration\n=============================================================\n--------------------------------\nLayer type: Input\ndim: 1\n--------------------------------\nLayer type: Dense\nn_neurons: 1\n[-0.15416785  0.21792188  0.20010675 -0.1874121  -0.13116896 -0.04810199\n  0.32109473]\n--------------------------------\n[0.09131576]\n",
      "1700th iteration\n=============================================================\n--------------------------------\nLayer type: Input\ndim: 1\n--------------------------------\nLayer type: Dense\nn_neurons: 1\n[-0.15417766  0.21792176  0.20009998 -0.18740861 -0.13115619 -0.04810171\n  0.3210949 ]\n--------------------------------\n[0.09131576]\n",
      "1800th iteration\n=============================================================\n--------------------------------\nLayer type: Input\ndim: 1\n--------------------------------\nLayer type: Dense\nn_neurons: 1\n[-0.15418747  0.21792163  0.20009321 -0.18740511 -0.13114342 -0.04810144\n  0.32109507]\n--------------------------------\n[0.09131576]\n",
      "1900th iteration\n=============================================================\n--------------------------------\nLayer type: Input\ndim: 1\n--------------------------------\nLayer type: Dense\nn_neurons: 1\n[-0.15419728  0.2179215   0.20008643 -0.18740162 -0.13113065 -0.04810116\n  0.32109523]\n--------------------------------\n[0.09131576]\n",
      "2000th iteration\n=============================================================\n--------------------------------\nLayer type: Input\ndim: 1\n--------------------------------\nLayer type: Dense\nn_neurons: 1\n[-0.15420709  0.21792138  0.20007966 -0.18739812 -0.13111788 -0.04810088\n  0.3210954 ]\n--------------------------------\n[0.09131576]\n",
      "2100th iteration\n=============================================================\n--------------------------------\nLayer type: Input\ndim: 1\n--------------------------------\nLayer type: Dense\nn_neurons: 1\n[-0.1542169   0.21792125  0.20007289 -0.18739463 -0.13110511 -0.0481006\n  0.32109557]\n--------------------------------\n[0.09131576]\n",
      "2200th iteration\n=============================================================\n--------------------------------\nLayer type: Input\ndim: 1\n--------------------------------\nLayer type: Dense\nn_neurons: 1\n[-0.15422671  0.21792112  0.20006612 -0.18739113 -0.13109234 -0.04810032\n  0.32109574]\n--------------------------------\n[0.09131576]\n",
      "2300th iteration\n=============================================================\n--------------------------------\nLayer type: Input\ndim: 1\n--------------------------------\nLayer type: Dense\nn_neurons: 1\n[-0.15423652  0.217921    0.20005934 -0.18738764 -0.13107957 -0.04810005\n  0.3210959 ]\n--------------------------------\n[0.09131576]\n",
      "2400th iteration\n=============================================================\n--------------------------------\nLayer type: Input\ndim: 1\n--------------------------------\nLayer type: Dense\nn_neurons: 1\n[-0.15424633  0.21792087  0.20005257 -0.18738414 -0.13106681 -0.04809977\n  0.32109607]\n--------------------------------\n[0.09131576]\n",
      "2500th iteration\n=============================================================\n--------------------------------\nLayer type: Input\ndim: 1\n--------------------------------\nLayer type: Dense\nn_neurons: 1\n[-0.15425614  0.21792074  0.2000458  -0.18738065 -0.13105404 -0.04809949\n  0.32109624]\n--------------------------------\n[0.09131576]\n",
      "2600th iteration\n=============================================================\n--------------------------------\nLayer type: Input\ndim: 1\n--------------------------------\nLayer type: Dense\nn_neurons: 1\n[-0.15426595  0.21792062  0.20003903 -0.18737715 -0.13104127 -0.04809921\n  0.32109641]\n--------------------------------\n[0.09131576]\n",
      "2700th iteration\n=============================================================\n--------------------------------\nLayer type: Input\ndim: 1\n--------------------------------\nLayer type: Dense\nn_neurons: 1\n[-0.15427576  0.21792049  0.20003225 -0.18737366 -0.1310285  -0.04809893\n  0.32109657]\n--------------------------------\n[0.09131576]\n",
      "2800th iteration\n=============================================================\n--------------------------------\nLayer type: Input\ndim: 1\n--------------------------------\nLayer type: Dense\nn_neurons: 1\n[-0.15428557  0.21792036  0.20002548 -0.18737017 -0.13101573 -0.04809866\n  0.32109674]\n--------------------------------\n[0.09131576]\n",
      "2900th iteration\n=============================================================\n--------------------------------\nLayer type: Input\ndim: 1\n--------------------------------\nLayer type: Dense\nn_neurons: 1\n[-0.15429539  0.21792024  0.20001871 -0.18736667 -0.13100296 -0.04809838\n  0.32109691]\n--------------------------------\n[0.09131576]\n",
      "3000th iteration\n=============================================================\n--------------------------------\nLayer type: Input\ndim: 1\n--------------------------------\nLayer type: Dense\nn_neurons: 1\n[-0.1543052   0.21792011  0.20001194 -0.18736318 -0.13099019 -0.0480981\n  0.32109707]\n--------------------------------\n[0.09131576]\n",
      "3100th iteration\n=============================================================\n--------------------------------\nLayer type: Input\ndim: 1\n--------------------------------\nLayer type: Dense\nn_neurons: 1\n[-0.15431501  0.21791998  0.20000517 -0.18735968 -0.13097742 -0.04809782\n  0.32109724]\n--------------------------------\n[0.09131576]\n",
      "3200th iteration\n=============================================================\n--------------------------------\nLayer type: Input\ndim: 1\n--------------------------------\nLayer type: Dense\nn_neurons: 1\n[-0.15432482  0.21791986  0.19999839 -0.18735619 -0.13096465 -0.04809754\n  0.32109741]\n--------------------------------\n[0.09131576]\n",
      "3300th iteration\n=============================================================\n--------------------------------\nLayer type: Input\ndim: 1\n--------------------------------\nLayer type: Dense\nn_neurons: 1\n[-0.15433463  0.21791973  0.19999162 -0.18735269 -0.13095188 -0.04809726\n  0.32109758]\n--------------------------------\n[0.09131576]\n",
      "3400th iteration\n=============================================================\n--------------------------------\nLayer type: Input\ndim: 1\n--------------------------------\nLayer type: Dense\nn_neurons: 1\n[-0.15434444  0.2179196   0.19998485 -0.1873492  -0.13093911 -0.04809699\n  0.32109774]\n--------------------------------\n[0.09131576]\n",
      "3500th iteration\n=============================================================\n--------------------------------\nLayer type: Input\ndim: 1\n--------------------------------\nLayer type: Dense\nn_neurons: 1\n[-0.15435425  0.21791948  0.19997808 -0.1873457  -0.13092634 -0.04809671\n  0.32109791]\n--------------------------------\n[0.09131576]\n",
      "3600th iteration\n=============================================================\n--------------------------------\nLayer type: Input\ndim: 1\n--------------------------------\nLayer type: Dense\nn_neurons: 1\n[-0.15436406  0.21791935  0.1999713  -0.18734221 -0.13091358 -0.04809643\n  0.32109808]\n--------------------------------\n[0.09131576]\n",
      "3700th iteration\n=============================================================\n--------------------------------\nLayer type: Input\ndim: 1\n--------------------------------\nLayer type: Dense\nn_neurons: 1\n[-0.15437387  0.21791922  0.19996453 -0.18733871 -0.13090081 -0.04809615\n  0.32109825]\n--------------------------------\n[0.09131576]\n",
      "3800th iteration\n=============================================================\n--------------------------------\nLayer type: Input\ndim: 1\n--------------------------------\nLayer type: Dense\nn_neurons: 1\n[-0.15438368  0.2179191   0.19995776 -0.18733522 -0.13088804 -0.04809587\n  0.32109841]\n--------------------------------\n[0.09131576]\n",
      "3900th iteration\n=============================================================\n--------------------------------\nLayer type: Input\ndim: 1\n--------------------------------\nLayer type: Dense\nn_neurons: 1\n[-0.15439349  0.21791897  0.19995099 -0.18733172 -0.13087527 -0.0480956\n  0.32109858]\n--------------------------------\n[0.09131576]\n",
      "4000th iteration\n=============================================================\n--------------------------------\nLayer type: Input\ndim: 1\n--------------------------------\nLayer type: Dense\nn_neurons: 1\n[-0.1544033   0.21791884  0.19994421 -0.18732823 -0.1308625  -0.04809532\n  0.32109875]\n--------------------------------\n[0.09131576]\n",
      "4100th iteration\n=============================================================\n--------------------------------\nLayer type: Input\ndim: 1\n--------------------------------\nLayer type: Dense\nn_neurons: 1\n[-0.15441311  0.21791872  0.19993744 -0.18732473 -0.13084973 -0.04809504\n  0.32109892]\n--------------------------------\n[0.09131576]\n",
      "4200th iteration\n=============================================================\n--------------------------------\nLayer type: Input\ndim: 1\n--------------------------------\nLayer type: Dense\nn_neurons: 1\n[-0.15442292  0.21791859  0.19993067 -0.18732124 -0.13083696 -0.04809476\n  0.32109908]\n--------------------------------\n[0.09131576]\n",
      "4300th iteration\n=============================================================\n--------------------------------\nLayer type: Input\ndim: 1\n--------------------------------\nLayer type: Dense\nn_neurons: 1\n[-0.15443273  0.21791846  0.1999239  -0.18731774 -0.13082419 -0.04809448\n  0.32109925]\n--------------------------------\n[0.09131576]\n",
      "4400th iteration\n=============================================================\n--------------------------------\nLayer type: Input\ndim: 1\n--------------------------------\nLayer type: Dense\nn_neurons: 1\n[-0.15444254  0.21791834  0.19991712 -0.18731425 -0.13081142 -0.04809421\n  0.32109942]\n--------------------------------\n[0.09131576]\n",
      "4500th iteration\n=============================================================\n--------------------------------\nLayer type: Input\ndim: 1\n--------------------------------\nLayer type: Dense\nn_neurons: 1\n[-0.15445235  0.21791821  0.19991035 -0.18731075 -0.13079865 -0.04809393\n  0.32109958]\n--------------------------------\n[0.09131576]\n",
      "4600th iteration\n=============================================================\n--------------------------------\nLayer type: Input\ndim: 1\n--------------------------------\nLayer type: Dense\nn_neurons: 1\n[-0.15446216  0.21791808  0.19990358 -0.18730726 -0.13078588 -0.04809365\n  0.32109975]\n--------------------------------\n[0.09131576]\n",
      "4700th iteration\n=============================================================\n--------------------------------\nLayer type: Input\ndim: 1\n--------------------------------\nLayer type: Dense\nn_neurons: 1\n[-0.15447197  0.21791796  0.19989681 -0.18730376 -0.13077311 -0.04809337\n  0.32109992]\n--------------------------------\n[0.09131576]\n"
     ],
     "output_type": "stream"
    }
   ],
   "source": [
    "input = NeuralNets.InputLayer(1)\n",
    "rbf = NeuralNets.RBFLayer(6,input,Xs.values)\n",
    "output = NeuralNets.DenseLayer(1,rbf,isOutput=True)\n",
    "mdl = NeuralNets.Model(input,output)\n",
    "mdl.fit(Xs.values.reshape(-1,1), ys.values.reshape(-1,1), lr = 0.01,verbose=1,max_epochs=10000000)"
   ],
   "metadata": {
    "collapsed": false,
    "pycharm": {
     "name": "#%%\n",
     "is_executing": true
    }
   }
  }
 ],
 "metadata": {
  "language_info": {
   "codemirror_mode": {
    "name": "ipython",
    "version": 2
   },
   "file_extension": ".py",
   "mimetype": "text/x-python",
   "name": "python",
   "nbconvert_exporter": "python",
   "pygments_lexer": "ipython2",
   "version": "2.7.6"
  },
  "kernelspec": {
   "name": "python3",
   "language": "python",
   "display_name": "Python 3"
  },
  "pycharm": {
   "stem_cell": {
    "cell_type": "raw",
    "source": [],
    "metadata": {
     "collapsed": false
    }
   }
  }
 },
 "nbformat": 4,
 "nbformat_minor": 0
}